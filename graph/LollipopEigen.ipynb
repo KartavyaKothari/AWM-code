{
 "cells": [
  {
   "cell_type": "code",
   "execution_count": 1,
   "metadata": {},
   "outputs": [
    {
     "data": {
      "text/plain": [
       "30.0"
      ]
     },
     "execution_count": 1,
     "metadata": {},
     "output_type": "execute_result"
    }
   ],
   "source": [
    "import numpy as np\n",
    "import networkx as nx\n",
    "import matplotlib.pyplot as plt\n",
    "\n",
    "adj = np.zeros([10,10])\n",
    "adj[0:4,0:4] = 1-np.eye(4)\n",
    "adj[6:10,6:10] = 1-np.eye(4)\n",
    "adj[3,4] = adj[4,3] = 1\n",
    "adj[4,5] = adj[5,4] = 1\n",
    "adj[5,6] = adj[6,5] = 1\n",
    "\n",
    "twice_edges = np.sum(adj)\n",
    "twice_edges"
   ]
  },
  {
   "cell_type": "code",
   "execution_count": 11,
   "metadata": {},
   "outputs": [
    {
     "data": {
      "text/plain": [
       "array([0.1  , 0.1  , 0.1  , 0.133, 0.067, 0.067, 0.133, 0.1  , 0.1  ,\n",
       "       0.1  ])"
      ]
     },
     "execution_count": 11,
     "metadata": {},
     "output_type": "execute_result"
    }
   ],
   "source": [
    "row_sums = np.sum(adj, axis=0)\n",
    "steady = row_sums / twice_edges\n",
    "steady"
   ]
  },
  {
   "cell_type": "code",
   "execution_count": 4,
   "metadata": {},
   "outputs": [
    {
     "name": "stdout",
     "output_type": "stream",
     "text": [
      "[[0.    0.333 0.333 0.25  0.    0.    0.    0.    0.    0.   ]\n",
      " [0.333 0.    0.333 0.25  0.    0.    0.    0.    0.    0.   ]\n",
      " [0.333 0.333 0.    0.25  0.    0.    0.    0.    0.    0.   ]\n",
      " [0.333 0.333 0.333 0.    0.5   0.    0.    0.    0.    0.   ]\n",
      " [0.    0.    0.    0.25  0.    0.5   0.    0.    0.    0.   ]\n",
      " [0.    0.    0.    0.    0.5   0.    0.25  0.    0.    0.   ]\n",
      " [0.    0.    0.    0.    0.    0.5   0.    0.333 0.333 0.333]\n",
      " [0.    0.    0.    0.    0.    0.    0.25  0.    0.333 0.333]\n",
      " [0.    0.    0.    0.    0.    0.    0.25  0.333 0.    0.333]\n",
      " [0.    0.    0.    0.    0.    0.    0.25  0.333 0.333 0.   ]]\n"
     ]
    }
   ],
   "source": [
    "cond = adj / row_sums\n",
    "np.set_printoptions(precision=3)\n",
    "print(cond)"
   ]
  },
  {
   "cell_type": "code",
   "execution_count": 12,
   "metadata": {},
   "outputs": [
    {
     "data": {
      "text/plain": [
       "array([0.1  , 0.1  , 0.1  , 0.133, 0.067, 0.067, 0.133, 0.1  , 0.1  ,\n",
       "       0.1  ])"
      ]
     },
     "execution_count": 12,
     "metadata": {},
     "output_type": "execute_result"
    }
   ],
   "source": [
    "np.matmul(cond, steady)"
   ]
  },
  {
   "cell_type": "code",
   "execution_count": 5,
   "metadata": {},
   "outputs": [
    {
     "data": {
      "text/plain": [
       "array([ 1.   ,  0.954,  0.547, -0.728, -0.06 , -0.333, -0.381, -0.333,\n",
       "       -0.333, -0.333])"
      ]
     },
     "execution_count": 5,
     "metadata": {},
     "output_type": "execute_result"
    }
   ],
   "source": [
    "evals, evecs = np.linalg.eig(cond)\n",
    "evals"
   ]
  },
  {
   "cell_type": "code",
   "execution_count": 15,
   "metadata": {},
   "outputs": [
    {
     "data": {
      "text/plain": [
       "array([0.1  , 0.1  , 0.1  , 0.133, 0.067, 0.067, 0.133, 0.1  , 0.1  ,\n",
       "       0.1  ])"
      ]
     },
     "execution_count": 15,
     "metadata": {},
     "output_type": "execute_result"
    }
   ],
   "source": [
    "evecs[:,0] / np.linalg.norm(evecs[:,0], ord=1)"
   ]
  },
  {
   "cell_type": "code",
   "execution_count": 7,
   "metadata": {},
   "outputs": [
    {
     "data": {
      "text/plain": [
       "array([ 0.338,  0.338,  0.338,  0.39 ,  0.067, -0.067, -0.39 , -0.338,\n",
       "       -0.338, -0.338])"
      ]
     },
     "execution_count": 7,
     "metadata": {},
     "output_type": "execute_result"
    }
   ],
   "source": [
    "evecs[:,1]"
   ]
  },
  {
   "cell_type": "code",
   "execution_count": 8,
   "metadata": {},
   "outputs": [
    {
     "data": {
      "text/plain": [
       "8.326672684688674e-16"
      ]
     },
     "execution_count": 8,
     "metadata": {},
     "output_type": "execute_result"
    }
   ],
   "source": [
    "np.dot(evecs[:,0], evecs[:,1])"
   ]
  },
  {
   "cell_type": "code",
   "execution_count": 18,
   "metadata": {},
   "outputs": [
    {
     "data": {
      "image/png": "[encoded data removed]",
      "text/plain": [
       "<Figure size 432x288 with 1 Axes>"
      ]
     },
     "metadata": {},
     "output_type": "display_data"
    }
   ],
   "source": [
    "graph = nx.from_numpy_matrix(adj)\n",
    "nx.draw(graph, node_color=evecs[:,1], cmap=plt.cm.seismic)\n",
    "plt.show()"
   ]
  },
  {
   "cell_type": "code",
   "execution_count": null,
   "metadata": {},
   "outputs": [],
   "source": []
  }
 ],
 "metadata": {
  "kernelspec": {
   "display_name": "Python 3",
   "language": "python",
   "name": "python3"
  },
  "language_info": {
   "codemirror_mode": {
    "name": "ipython",
    "version": 3
   },
   "file_extension": ".py",
   "mimetype": "text/x-python",
   "name": "python",
   "nbconvert_exporter": "python",
   "pygments_lexer": "ipython3",
   "version": "3.6.8"
  }
 },
 "nbformat": 4,
 "nbformat_minor": 2
}
