{
 "cells": [
  {
   "cell_type": "code",
   "execution_count": 9,
   "metadata": {},
   "outputs": [],
   "source": [
    "import numpy as np\n",
    "from numpy.random import seed, uniform, randint, random_sample, get_state, set_state\n",
    "from zlib import adler32\n",
    "\n",
    "class UHash(object):\n",
    "    def __init__(self, useed):\n",
    "        self.useed = useed\n",
    "        self.sketch = 1.\n",
    "        \n",
    "    def do_hash(self, val):\n",
    "        old_state = get_state()\n",
    "        seed(adler32((str(self.useed) + str(val)).encode()))\n",
    "        to_return = uniform()\n",
    "        set_state(old_state)\n",
    "        return to_return\n",
    "    \n",
    "    def do_update(self, val):\n",
    "        y = self.do_hash(val)\n",
    "        if self.sketch > y:\n",
    "            self.sketch = y\n",
    "            \n",
    "    def get_sketch(self):\n",
    "        return self.sketch\n",
    "\n",
    "\n",
    "global_seeds = [randint(2000)+1 for _ in range(100)]"
   ]
  },
  {
   "cell_type": "code",
   "execution_count": 10,
   "metadata": {},
   "outputs": [],
   "source": [
    "def make_stream(stream_len, num_distinct):\n",
    "    \"\"\"Sample values from a secret pool, with repititions.\"\"\"\n",
    "    secret_pool = list(range(num_distinct))\n",
    "    for _ in range(stream_len):\n",
    "        which = randint(low=0, high=len(secret_pool))\n",
    "        yield 11+secret_pool[which]"
   ]
  },
  {
   "cell_type": "code",
   "execution_count": 11,
   "metadata": {},
   "outputs": [
    {
     "name": "stdout",
     "output_type": "stream",
     "text": [
      "100 actual 100 estimate 133.6777582596872\n",
      "150 actual 150 estimate 219.2942750997619\n",
      "300 actual 300 estimate 309.60983286686434\n",
      "450 actual 449 estimate 350.8792076482602\n",
      "600 actual 575 estimate 391.4022882603934\n",
      "750 actual 694 estimate 400.2440902046482\n",
      "900 actual 816 estimate 462.90376229989533\n",
      "1050 actual 894 estimate 521.528394343573\n",
      "1200 actual 971 estimate 543.7888236239406\n"
     ]
    }
   ],
   "source": [
    "from statistics import mean\n",
    "\n",
    "golds, estimates = [], []\n",
    "\n",
    "for num_distinct in (100, 150, 300, 450, 600, 750, 900, 1050, 1200):\n",
    "    uhashes = [UHash(seed) for seed in global_seeds]\n",
    "    uniques = set()\n",
    "    stream = make_stream(2000, num_distinct)\n",
    "    for x in stream:\n",
    "        if x not in uniques:\n",
    "            uniques.add(x)\n",
    "        for uhash in uhashes:\n",
    "            uhash.do_update(x)\n",
    "    estimate = 1./mean([uh.get_sketch() for uh in uhashes]) - 1.\n",
    "    golds.append(len(uniques))\n",
    "    estimates.append(estimate)\n",
    "    print(num_distinct, \"actual\", len(uniques), \"estimate\", estimate)"
   ]
  },
  {
   "cell_type": "code",
   "execution_count": 12,
   "metadata": {},
   "outputs": [
    {
     "data": {
      "image/png": "[encoded data removed]",
      "text/plain": [
       "<Figure size 432x288 with 1 Axes>"
      ]
     },
     "metadata": {
      "needs_background": "light"
     },
     "output_type": "display_data"
    }
   ],
   "source": [
    "import matplotlib.pyplot as plt\n",
    "\n",
    "plt.scatter(golds, estimates)\n",
    "plt.plot(golds, golds, \"r:\")\n",
    "plt.show()"
   ]
  },
  {
   "cell_type": "code",
   "execution_count": null,
   "metadata": {},
   "outputs": [],
   "source": []
  }
 ],
 "metadata": {
  "kernelspec": {
   "display_name": "Python 3",
   "language": "python",
   "name": "python3"
  },
  "language_info": {
   "codemirror_mode": {
    "name": "ipython",
    "version": 3
   },
   "file_extension": ".py",
   "mimetype": "text/x-python",
   "name": "python",
   "nbconvert_exporter": "python",
   "pygments_lexer": "ipython3",
   "version": "3.6.8"
  }
 },
 "nbformat": 4,
 "nbformat_minor": 2
}
